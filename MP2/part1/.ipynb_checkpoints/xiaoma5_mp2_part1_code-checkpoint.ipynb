{
 "cells": [
  {
   "cell_type": "code",
   "execution_count": 2,
   "metadata": {},
   "outputs": [],
   "source": [
    "%matplotlib inline\n",
    "import os\n",
    "import sys\n",
    "import numpy as np\n",
    "import matplotlib\n",
    "import matplotlib.pyplot as plt\n",
    "from PIL import Image\n",
    "import timeit\n",
    "import cv2\n",
    "import scipy\n",
    "from scipy.ndimage import convolve\n",
    "from scipy.ndimage import gaussian_filter"
   ]
  },
  {
   "cell_type": "code",
   "execution_count": 34,
   "metadata": {},
   "outputs": [],
   "source": [
    "def read_image_convert_to_grayscale(IMG_NAME):\n",
    "    # YOUR CODE HERE\n",
    "    img = cv2.imread(IMG_NAME)\n",
    "    gray = cv2.cvtColor(img,cv2.COLOR_BGR2GRAY)  \n",
    "    gray = gray.astype(np.float64)\n",
    "    \n",
    "    return gray"
   ]
  },
  {
   "cell_type": "code",
   "execution_count": 35,
   "metadata": {},
   "outputs": [],
   "source": [
    "def read_image(IMG_NAME):\n",
    "    img = cv2.imread(IMG_NAME)\n",
    "    img = cv2.cvtColor(img,cv2.COLOR_BGR2RGB)\n",
    "    return img"
   ]
  },
  {
   "cell_type": "code",
   "execution_count": 39,
   "metadata": {},
   "outputs": [],
   "source": [
    "def get_low_res_img(IMG):\n",
    "    img = cv2.resize(IMG, (0,0), fx=0.5, fy=0.5) \n",
    "    \n",
    "    return img"
   ]
  },
  {
   "cell_type": "code",
   "execution_count": 36,
   "metadata": {},
   "outputs": [],
   "source": [
    "def filter_images(IMG,filter_type,sigma):\n",
    "    \n",
    "    if (filter_type == 'low_pass'):\n",
    "        filter_img = gaussian_filter(IMG,sigma)\n",
    "    elif (filter_type == 'high_pass'):\n",
    "        filter_img = IMG - gaussian_filter(IMG,sigma)\n",
    "    else: \n",
    "        print('not supported')\n",
    "    return filter_img"
   ]
  },
  {
   "cell_type": "code",
   "execution_count": 37,
   "metadata": {},
   "outputs": [],
   "source": [
    "def create_hybrid_images(img_smooth,img_texture,hybrid_type):\n",
    "    \n",
    "    if (hybrid_type == 'add'):\n",
    "        hybrid_imag = img_smooth + img_texture\n",
    "    elif(hybrid_type == 'average'):\n",
    "        hybrid_imag = 0.5*(img_smooth + img_texture)\n",
    "    else:\n",
    "        print(\"not supproted\")\n",
    "    \n",
    "    \n",
    "    return hybrid_imag"
   ]
  },
  {
   "cell_type": "code",
   "execution_count": 52,
   "metadata": {},
   "outputs": [
    {
     "ename": "NameError",
     "evalue": "name 'IMG_NAME_text' is not defined",
     "output_type": "error",
     "traceback": [
      "\u001b[0;31m---------------------------------------------------------------------------\u001b[0m",
      "\u001b[0;31mNameError\u001b[0m                                 Traceback (most recent call last)",
      "\u001b[0;32m<ipython-input-52-95ee6b2c191a>\u001b[0m in \u001b[0;36m<module>\u001b[0;34m\u001b[0m\n\u001b[1;32m      4\u001b[0m \u001b[0msmooth_imag_org\u001b[0m \u001b[0;34m=\u001b[0m \u001b[0mread_image\u001b[0m\u001b[0;34m(\u001b[0m\u001b[0mIMG_DIR\u001b[0m\u001b[0;34m+\u001b[0m\u001b[0mIMG_NAME_smooth\u001b[0m\u001b[0;34m)\u001b[0m\u001b[0;34m\u001b[0m\u001b[0m\n\u001b[1;32m      5\u001b[0m \u001b[0mIMG_NAME_texg\u001b[0m \u001b[0;34m=\u001b[0m \u001b[0;34m'c2.jpg'\u001b[0m\u001b[0;34m\u001b[0m\u001b[0m\n\u001b[0;32m----> 6\u001b[0;31m \u001b[0mtexttured_imag\u001b[0m \u001b[0;34m=\u001b[0m  \u001b[0mread_image_convert_to_grayscale\u001b[0m\u001b[0;34m(\u001b[0m\u001b[0mIMG_DIR\u001b[0m \u001b[0;34m+\u001b[0m \u001b[0mIMG_NAME_text\u001b[0m\u001b[0;34m)\u001b[0m\u001b[0;34m\u001b[0m\u001b[0m\n\u001b[0m\u001b[1;32m      7\u001b[0m \u001b[0mtexttured_imag_org\u001b[0m \u001b[0;34m=\u001b[0m \u001b[0mread_image\u001b[0m\u001b[0;34m(\u001b[0m\u001b[0mIMG_DIR\u001b[0m\u001b[0;34m+\u001b[0m\u001b[0mIMG_NAME_text\u001b[0m\u001b[0;34m)\u001b[0m\u001b[0;34m\u001b[0m\u001b[0m\n\u001b[1;32m      8\u001b[0m \u001b[0;34m\u001b[0m\u001b[0m\n",
      "\u001b[0;31mNameError\u001b[0m: name 'IMG_NAME_text' is not defined"
     ]
    }
   ],
   "source": [
    "IMG_DIR = 'part1_images/'\n",
    "IMG_NAME_smooth = 'c1.jpg'\n",
    "smooth_imag = read_image_convert_to_grayscale(IMG_DIR + IMG_NAME_smooth)\n",
    "smooth_imag_org = read_image(IMG_DIR+IMG_NAME_smooth)\n",
    "IMG_NAME_texg = 'c2.jpg'\n",
    "texttured_imag =  read_image_convert_to_grayscale(IMG_DIR + IMG_NAME_text)\n",
    "texttured_imag_org = read_image(IMG_DIR+IMG_NAME_text)\n",
    "\n",
    "filter_smooth_img = filter_images(smooth_imag,'low_pass',2)\n",
    "filter_textured_img = filter_images(texttured_imag,'high_pass',10)\n",
    "hybrid_img = create_hybrid_images(filter_smooth_img, filter_textured_img, 'add')\n",
    "\n",
    "hybrid_img_low_res = get_low_res_img(hybrid_img)\n",
    "\n",
    "output_folder = 'output/'\n",
    "plt.figure(figsize=[20 , 10])\n",
    "plt.imshow(smooth_imag_org)\n",
    "cv2.imwrite(output_folder + 'smooth_org_' + IMG_NAME_sooth,smooth_imag_org)\n",
    "\n",
    "plt.figure(figsize=[20 , 10])\n",
    "plt.imshow(texttured_imag_org)\n",
    "plt.subplot(323)\n",
    "plt.imshow(smooth_imag,cmap = 'gray')\n",
    "plt.subplot(324)\n",
    "plt.imshow(texttured_imag, cmap = 'gray')\n",
    "plt.subplot(325)\n",
    "plt.imshow(hybrid_img, cmap = 'gray')\n",
    "plt.subplot(326)\n",
    "plt.imshow(hybrid_img_low_res, cmap = 'gray')"
   ]
  },
  {
   "cell_type": "code",
   "execution_count": null,
   "metadata": {},
   "outputs": [],
   "source": []
  }
 ],
 "metadata": {
  "kernelspec": {
   "display_name": "Python 3",
   "language": "python",
   "name": "python3"
  },
  "language_info": {
   "codemirror_mode": {
    "name": "ipython",
    "version": 3
   },
   "file_extension": ".py",
   "mimetype": "text/x-python",
   "name": "python",
   "nbconvert_exporter": "python",
   "pygments_lexer": "ipython3",
   "version": "3.6.6"
  }
 },
 "nbformat": 4,
 "nbformat_minor": 2
}
